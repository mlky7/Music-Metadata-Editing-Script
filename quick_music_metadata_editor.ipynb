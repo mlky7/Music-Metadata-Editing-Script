{
 "cells": [
  {
   "cell_type": "markdown",
   "id": "32913666",
   "metadata": {},
   "source": [
    "## **Quick Metadata Music Editor**\n",
    "> A lightweight Jupyter tool for extracting artist/title info from MP3 filenames, tagging metadata, and renaming files automatically."
   ]
  },
  {
   "cell_type": "markdown",
   "id": "ee41902d",
   "metadata": {},
   "source": [
    "#### **Importing libraries**"
   ]
  },
  {
   "cell_type": "code",
   "execution_count": 24,
   "id": "53d7c7a5",
   "metadata": {},
   "outputs": [],
   "source": [
    "import os\n",
    "import re\n",
    "from mutagen.easyid3 import EasyID3"
   ]
  },
  {
   "cell_type": "markdown",
   "id": "a3de4f71",
   "metadata": {},
   "source": [
    "#### **Setting up folder**"
   ]
  },
  {
   "cell_type": "code",
   "execution_count": 16,
   "id": "29a3f711",
   "metadata": {},
   "outputs": [
    {
     "name": "stdout",
     "output_type": "stream",
     "text": [
      "The Misfits - Abracadabra (HQ).mp3\n",
      "The Misfits - Ahead Of The Game (DAT) (320  kbps).mp3\n",
      "The Misfits - Congratulations (HQ) (320  kbps).mp3\n",
      "The Misfits - Designing Woman (HQ) (320  kbps).mp3\n",
      "The Misfits - Don't Look Now (HQ) (320  kbps).mp3\n",
      "The Misfits - Free And Easy (HQ).mp3\n",
      "The Misfits - Gimme A Gimmick (Mastertape) (320  kbps).mp3\n",
      "The Misfits - Gimme, Gimme, Gimme! (HQ) (320  kbps).mp3\n",
      "The Misfits - How Does It Feel (Mastertape) (320  kbps).mp3\n",
      "The Misfits - I Am A Giant (Crush You To the Ground- HQ) (320  kbps).mp3\n",
      "The Misfits - I Like Your Style (HQ) (320  kbps).mp3\n",
      "The Misfits - I Love A Scandal (HQ) (320  kbps).mp3\n",
      "The Misfits - Im Gonna Hunt You Down (142187).mp3\n",
      "The Misfits - It Takes Alot (DAT- HQ) (320  kbps).mp3\n",
      "The Misfits - Jack, Take A Hike (Mastertape) (320  kbps).mp3\n",
      "The Misfits - Let's Blow This Town (HQ) (320  kbps).mp3\n",
      "The Misfits - Listen Up (Special Cut- HQ) (320  kbps).mp3\n",
      "The Misfits - Lovesick (HQ) (320  kbps).mp3\n",
      "The Misfits - Makin' Mischief (HQ) (320  kbps).mp3\n",
      "The Misfits - Outta My Way (Mastertape- HQ) (320  kbps).mp3\n",
      "The Misfits - Star Spangled Fantasy (121-187) (320  kbps).mp3\n",
      "The Misfits - Surprise! Surprise! (Mastertape) (320  kbps).mp3\n",
      "The Misfits - Takin' It All (Mastertape- HQ) (320  kbps).mp3\n",
      "The Misfits - The Queen Of Rock And Roll (Mastertape) (320  kbps).mp3\n",
      "The Misfits - There Ain't Nobody Better (Stereo) (320  kbps).mp3\n",
      "The Misfits - Top Of The Charts (HQ) (320  kbps).mp3\n",
      "The Misfits - Trapped (feat. Pat Albrecht- HQ) (320  kbps).mp3\n",
      "The Misfits - Universal Appeal (HQ) (320  kbps).mp3\n",
      "The Misfits - We're Misfits In Hawaii [DAT] (51-187) (320  kbps).mp3\n",
      "The Misfits - We're Off And Runnin' (DAT-HQ) (320  kbps).mp3\n",
      "The Misfits - Welcome To The Jungle (HQ) (320  kbps).mp3\n",
      "The Misfits - Who Is She Anyway (HQ- DAT) (320  kbps).mp3\n",
      "The Misfits - Winning Is Everything (Mastertape- HQ) (320  kbps).mp3\n",
      "The Misfits - You Can't Catch Me (HQ -Alternative 'No Brakes' Version) (320  kbps).mp3\n",
      "The Misfits - You Can't Catch Me (HQ) (320  kbps).mp3\n",
      "The Misfits - You Gotta Be Fast [DAT] (31-187) (320  kbps).mp3\n",
      "The Misfits - You Oughta See The View From Here (Stereo) (320  kbps).mp3\n",
      "37\n"
     ]
    }
   ],
   "source": [
    "folder_path = r'C:\\Users\\user\\Music\\all\\Misfit'\n",
    "files = os.listdir(folder_path)\n",
    "tracks = []\n",
    "for f in files:\n",
    "    print(f)\n",
    "    tracks.append(f)\n",
    "print(len(files))"
   ]
  },
  {
   "cell_type": "code",
   "execution_count": 15,
   "id": "e58051a2",
   "metadata": {},
   "outputs": [
    {
     "name": "stdout",
     "output_type": "stream",
     "text": [
      "The Misfits - Abracadabra (HQ).mp3\n",
      "The Misfits - Ahead Of The Game (DAT) (320  kbps).mp3\n",
      "The Misfits - Congratulations (HQ) (320  kbps).mp3\n",
      "The Misfits - Designing Woman (HQ) (320  kbps).mp3\n",
      "The Misfits - Don't Look Now (HQ) (320  kbps).mp3\n",
      "The Misfits - Free And Easy (HQ).mp3\n",
      "The Misfits - Gimme A Gimmick (Mastertape) (320  kbps).mp3\n",
      "The Misfits - Gimme, Gimme, Gimme! (HQ) (320  kbps).mp3\n",
      "The Misfits - How Does It Feel (Mastertape) (320  kbps).mp3\n",
      "The Misfits - I Am A Giant (Crush You To the Ground- HQ) (320  kbps).mp3\n",
      "The Misfits - I Like Your Style (HQ) (320  kbps).mp3\n",
      "The Misfits - I Love A Scandal (HQ) (320  kbps).mp3\n",
      "The Misfits - Im Gonna Hunt You Down (142187).mp3\n",
      "The Misfits - It Takes Alot (DAT- HQ) (320  kbps).mp3\n",
      "The Misfits - Jack, Take A Hike (Mastertape) (320  kbps).mp3\n",
      "The Misfits - Let's Blow This Town (HQ) (320  kbps).mp3\n",
      "The Misfits - Listen Up (Special Cut- HQ) (320  kbps).mp3\n",
      "The Misfits - Lovesick (HQ) (320  kbps).mp3\n",
      "The Misfits - Makin' Mischief (HQ) (320  kbps).mp3\n",
      "The Misfits - Outta My Way (Mastertape- HQ) (320  kbps).mp3\n",
      "The Misfits - Star Spangled Fantasy (121-187) (320  kbps).mp3\n",
      "The Misfits - Surprise! Surprise! (Mastertape) (320  kbps).mp3\n",
      "The Misfits - Takin' It All (Mastertape- HQ) (320  kbps).mp3\n",
      "The Misfits - The Queen Of Rock And Roll (Mastertape) (320  kbps).mp3\n",
      "The Misfits - There Ain't Nobody Better (Stereo) (320  kbps).mp3\n",
      "The Misfits - Top Of The Charts (HQ) (320  kbps).mp3\n",
      "The Misfits - Trapped (feat. Pat Albrecht- HQ) (320  kbps).mp3\n",
      "The Misfits - Universal Appeal (HQ) (320  kbps).mp3\n",
      "The Misfits - We're Misfits In Hawaii [DAT] (51-187) (320  kbps).mp3\n",
      "The Misfits - We're Off And Runnin' (DAT-HQ) (320  kbps).mp3\n",
      "The Misfits - Welcome To The Jungle (HQ) (320  kbps).mp3\n",
      "The Misfits - Who Is She Anyway (HQ- DAT) (320  kbps).mp3\n",
      "The Misfits - Winning Is Everything (Mastertape- HQ) (320  kbps).mp3\n",
      "The Misfits - You Can't Catch Me (HQ -Alternative 'No Brakes' Version) (320  kbps).mp3\n",
      "The Misfits - You Can't Catch Me (HQ) (320  kbps).mp3\n",
      "The Misfits - You Gotta Be Fast [DAT] (31-187) (320  kbps).mp3\n",
      "The Misfits - You Oughta See The View From Here (Stereo) (320  kbps).mp3\n",
      "37\n"
     ]
    }
   ],
   "source": [
    "for track in tracks:\n",
    "    print(track)\n",
    "print(len(tracks))"
   ]
  },
  {
   "cell_type": "markdown",
   "id": "f9171acd",
   "metadata": {},
   "source": [
    "#### **Building Artist and Title Lists**"
   ]
  },
  {
   "cell_type": "code",
   "execution_count": 20,
   "id": "a39614e4",
   "metadata": {},
   "outputs": [
    {
     "name": "stdout",
     "output_type": "stream",
     "text": [
      "['The Misfits', 'The Misfits', 'The Misfits', 'The Misfits', 'The Misfits', 'The Misfits', 'The Misfits', 'The Misfits', 'The Misfits', 'The Misfits', 'The Misfits', 'The Misfits', 'The Misfits', 'The Misfits', 'The Misfits', 'The Misfits', 'The Misfits', 'The Misfits', 'The Misfits', 'The Misfits', 'The Misfits', 'The Misfits', 'The Misfits', 'The Misfits', 'The Misfits', 'The Misfits', 'The Misfits', 'The Misfits', 'The Misfits', 'The Misfits', 'The Misfits', 'The Misfits', 'The Misfits', 'The Misfits', 'The Misfits', 'The Misfits', 'The Misfits']\n",
      "['Abracadabra', 'Ahead Of The Game', 'Congratulations', 'Designing Woman', \"Don't Look Now\", 'Free And Easy', 'Gimme A Gimmick', 'Gimme, Gimme, Gimme!', 'How Does It Feel', 'I Am A Giant', 'I Like Your Style', 'I Love A Scandal', 'Im Gonna Hunt You Down', 'It Takes Alot', 'Jack, Take A Hike', \"Let's Blow This Town\", 'Listen Up', 'Lovesick', \"Makin' Mischief\", 'Outta My Way', 'Star Spangled Fantasy', 'Surprise! Surprise!', \"Takin' It All\", 'The Queen Of Rock And Roll', \"There Ain't Nobody Better\", 'Top Of The Charts', 'Trapped', 'Universal Appeal', \"We're Misfits In Hawaii [DAT]\", \"We're Off And Runnin'\", 'Welcome To The Jungle', 'Who Is She Anyway', 'Winning Is Everything', \"You Can't Catch Me\", \"You Can't Catch Me\", 'You Gotta Be Fast [DAT]', 'You Oughta See The View From Here']\n"
     ]
    }
   ],
   "source": [
    "artist_names = []\n",
    "track_names = []\n",
    "for track in tracks:\n",
    "    parts = track.split(\" - \", 1)\n",
    "    if len(parts) == 2:\n",
    "        artist = parts[0].strip()\n",
    "        title = parts[1].split(\"(\")[0].strip() \n",
    "        artist_names.append(artist)\n",
    "        track_names.append(title)\n",
    "    else:\n",
    "        artist_names.append(\"Unknown\")\n",
    "        track_names.append(\"Unknown\")\n",
    "\n",
    "print(artist_names)\n",
    "print(track_names)\n"
   ]
  },
  {
   "cell_type": "code",
   "execution_count": 21,
   "id": "ddbe02b9",
   "metadata": {},
   "outputs": [
    {
     "name": "stdout",
     "output_type": "stream",
     "text": [
      "37 37\n",
      "The Misfits Abracadabra\n",
      "The Misfits Ahead Of The Game\n",
      "The Misfits Congratulations\n",
      "The Misfits Designing Woman\n",
      "The Misfits Don't Look Now\n",
      "The Misfits Free And Easy\n",
      "The Misfits Gimme A Gimmick\n",
      "The Misfits Gimme, Gimme, Gimme!\n",
      "The Misfits How Does It Feel\n",
      "The Misfits I Am A Giant\n",
      "The Misfits I Like Your Style\n",
      "The Misfits I Love A Scandal\n",
      "The Misfits Im Gonna Hunt You Down\n",
      "The Misfits It Takes Alot\n",
      "The Misfits Jack, Take A Hike\n",
      "The Misfits Let's Blow This Town\n",
      "The Misfits Listen Up\n",
      "The Misfits Lovesick\n",
      "The Misfits Makin' Mischief\n",
      "The Misfits Outta My Way\n",
      "The Misfits Star Spangled Fantasy\n",
      "The Misfits Surprise! Surprise!\n",
      "The Misfits Takin' It All\n",
      "The Misfits The Queen Of Rock And Roll\n",
      "The Misfits There Ain't Nobody Better\n",
      "The Misfits Top Of The Charts\n",
      "The Misfits Trapped\n",
      "The Misfits Universal Appeal\n",
      "The Misfits We're Misfits In Hawaii [DAT]\n",
      "The Misfits We're Off And Runnin'\n",
      "The Misfits Welcome To The Jungle\n",
      "The Misfits Who Is She Anyway\n",
      "The Misfits Winning Is Everything\n",
      "The Misfits You Can't Catch Me\n",
      "The Misfits You Can't Catch Me\n",
      "The Misfits You Gotta Be Fast [DAT]\n",
      "The Misfits You Oughta See The View From Here\n"
     ]
    }
   ],
   "source": [
    "print(len(artist_names), len(track_names))\n",
    "\n",
    "for artist, track in zip(artist_names, track_names):\n",
    "    print(artist, track)\n"
   ]
  },
  {
   "cell_type": "markdown",
   "id": "61c37a73",
   "metadata": {},
   "source": [
    "#### **Writing metadata tags**"
   ]
  },
  {
   "cell_type": "code",
   "execution_count": null,
   "id": "d7fcb6e8",
   "metadata": {},
   "outputs": [
    {
     "name": "stdout",
     "output_type": "stream",
     "text": [
      "{'title': ['Abracadabra'], 'artist': ['The Misfits']}\n",
      "{'title': ['Ahead Of The Game'], 'artist': ['The Misfits']}\n",
      "{'title': ['Congratulations'], 'artist': ['The Misfits']}\n",
      "{'title': ['Designing Woman'], 'artist': ['The Misfits']}\n",
      "{'title': [\"Don't Look Now\"], 'artist': ['The Misfits']}\n",
      "{'title': ['Free And Easy'], 'artist': ['The Misfits']}\n",
      "{'title': ['Gimme A Gimmick'], 'artist': ['The Misfits']}\n",
      "{'title': ['Gimme, Gimme, Gimme!'], 'artist': ['The Misfits']}\n",
      "{'title': ['How Does It Feel'], 'artist': ['The Misfits']}\n",
      "{'title': ['I Am A Giant'], 'artist': ['The Misfits']}\n",
      "{'title': ['I Like Your Style'], 'artist': ['The Misfits']}\n",
      "{'title': ['I Love A Scandal'], 'artist': ['The Misfits']}\n",
      "{'title': ['Im Gonna Hunt You Down'], 'artist': ['The Misfits']}\n",
      "{'title': ['It Takes Alot'], 'artist': ['The Misfits']}\n",
      "{'title': ['Jack, Take A Hike'], 'artist': ['The Misfits']}\n",
      "{'title': [\"Let's Blow This Town\"], 'artist': ['The Misfits']}\n",
      "{'title': ['Listen Up'], 'artist': ['The Misfits']}\n",
      "{'title': ['Lovesick'], 'artist': ['The Misfits']}\n",
      "{'title': [\"Makin' Mischief\"], 'artist': ['The Misfits']}\n",
      "{'title': ['Outta My Way'], 'artist': ['The Misfits']}\n",
      "{'title': ['Star Spangled Fantasy'], 'artist': ['The Misfits']}\n",
      "{'title': ['Surprise! Surprise!'], 'artist': ['The Misfits']}\n",
      "{'title': [\"Takin' It All\"], 'artist': ['The Misfits']}\n",
      "{'title': ['The Queen Of Rock And Roll'], 'artist': ['The Misfits']}\n",
      "{'title': [\"There Ain't Nobody Better\"], 'artist': ['The Misfits']}\n",
      "{'title': ['Top Of The Charts'], 'artist': ['The Misfits']}\n",
      "{'title': ['Trapped'], 'artist': ['The Misfits']}\n",
      "{'title': ['Universal Appeal'], 'artist': ['The Misfits']}\n",
      "{'title': [\"We're Misfits In Hawaii [DAT]\"], 'artist': ['The Misfits']}\n",
      "{'title': [\"We're Off And Runnin'\"], 'artist': ['The Misfits']}\n",
      "{'title': ['Welcome To The Jungle'], 'artist': ['The Misfits']}\n",
      "{'title': ['Who Is She Anyway'], 'artist': ['The Misfits']}\n",
      "{'title': ['Winning Is Everything'], 'artist': ['The Misfits']}\n",
      "{'title': [\"You Can't Catch Me\"], 'artist': ['The Misfits']}\n",
      "{'title': [\"You Can't Catch Me\"], 'artist': ['The Misfits']}\n",
      "{'title': ['You Gotta Be Fast [DAT]'], 'artist': ['The Misfits']}\n",
      "{'title': ['You Oughta See The View From Here'], 'artist': ['The Misfits']}\n"
     ]
    }
   ],
   "source": [
    "for track, artist, title in zip(os.listdir(folder_path), artist_names, track_names):\n",
    "    path = os.path.join(folder_path, track)\n",
    "    if track.lower().endswith('.mp3'):\n",
    "        audio = EasyID3(path)\n",
    "        audio[\"artist\"] = artist\n",
    "        audio[\"title\"] = title\n",
    "        audio.save()             \n",
    "        print(audio)\n"
   ]
  },
  {
   "cell_type": "markdown",
   "id": "db7155ca",
   "metadata": {},
   "source": [
    "#### **Renaming orginal files with extracted song titles.**"
   ]
  },
  {
   "cell_type": "code",
   "execution_count": null,
   "id": "9ee7fe16",
   "metadata": {},
   "outputs": [
    {
     "name": "stdout",
     "output_type": "stream",
     "text": [
      "Renamed: The Misfits - Abracadabra (HQ).mp3 → Abracadabra.mp3\n",
      "Renamed: The Misfits - Ahead Of The Game (DAT) (320  kbps).mp3 → Ahead Of The Game.mp3\n",
      "Renamed: The Misfits - Congratulations (HQ) (320  kbps).mp3 → Congratulations.mp3\n",
      "Renamed: The Misfits - Designing Woman (HQ) (320  kbps).mp3 → Designing Woman.mp3\n",
      "Renamed: The Misfits - Don't Look Now (HQ) (320  kbps).mp3 → Don't Look Now.mp3\n",
      "Renamed: The Misfits - Free And Easy (HQ).mp3 → Free And Easy.mp3\n",
      "Renamed: The Misfits - Gimme A Gimmick (Mastertape) (320  kbps).mp3 → Gimme A Gimmick.mp3\n",
      "Renamed: The Misfits - Gimme, Gimme, Gimme! (HQ) (320  kbps).mp3 → Gimme, Gimme, Gimme!.mp3\n",
      "Renamed: The Misfits - How Does It Feel (Mastertape) (320  kbps).mp3 → How Does It Feel.mp3\n",
      "Renamed: The Misfits - I Am A Giant (Crush You To the Ground- HQ) (320  kbps).mp3 → I Am A Giant.mp3\n",
      "Renamed: The Misfits - I Like Your Style (HQ) (320  kbps).mp3 → I Like Your Style.mp3\n",
      "Renamed: The Misfits - I Love A Scandal (HQ) (320  kbps).mp3 → I Love A Scandal.mp3\n",
      "Renamed: The Misfits - Im Gonna Hunt You Down (142187).mp3 → Im Gonna Hunt You Down.mp3\n",
      "Renamed: The Misfits - It Takes Alot (DAT- HQ) (320  kbps).mp3 → It Takes Alot.mp3\n",
      "Renamed: The Misfits - Jack, Take A Hike (Mastertape) (320  kbps).mp3 → Jack, Take A Hike.mp3\n",
      "Renamed: The Misfits - Let's Blow This Town (HQ) (320  kbps).mp3 → Let's Blow This Town.mp3\n",
      "Renamed: The Misfits - Listen Up (Special Cut- HQ) (320  kbps).mp3 → Listen Up.mp3\n",
      "Renamed: The Misfits - Lovesick (HQ) (320  kbps).mp3 → Lovesick.mp3\n",
      "Renamed: The Misfits - Makin' Mischief (HQ) (320  kbps).mp3 → Makin' Mischief.mp3\n",
      "Renamed: The Misfits - Outta My Way (Mastertape- HQ) (320  kbps).mp3 → Outta My Way.mp3\n",
      "Renamed: The Misfits - Star Spangled Fantasy (121-187) (320  kbps).mp3 → Star Spangled Fantasy.mp3\n",
      "Renamed: The Misfits - Surprise! Surprise! (Mastertape) (320  kbps).mp3 → Surprise! Surprise!.mp3\n",
      "Renamed: The Misfits - Takin' It All (Mastertape- HQ) (320  kbps).mp3 → Takin' It All.mp3\n",
      "Renamed: The Misfits - The Queen Of Rock And Roll (Mastertape) (320  kbps).mp3 → The Queen Of Rock And Roll.mp3\n",
      "Renamed: The Misfits - There Ain't Nobody Better (Stereo) (320  kbps).mp3 → There Ain't Nobody Better.mp3\n",
      "Renamed: The Misfits - Top Of The Charts (HQ) (320  kbps).mp3 → Top Of The Charts.mp3\n",
      "Renamed: The Misfits - Trapped (feat. Pat Albrecht- HQ) (320  kbps).mp3 → Trapped.mp3\n",
      "Renamed: The Misfits - Universal Appeal (HQ) (320  kbps).mp3 → Universal Appeal.mp3\n",
      "Renamed: The Misfits - We're Misfits In Hawaii [DAT] (51-187) (320  kbps).mp3 → We're Misfits In Hawaii [DAT].mp3\n",
      "Renamed: The Misfits - We're Off And Runnin' (DAT-HQ) (320  kbps).mp3 → We're Off And Runnin'.mp3\n",
      "Renamed: The Misfits - Welcome To The Jungle (HQ) (320  kbps).mp3 → Welcome To The Jungle.mp3\n",
      "Renamed: The Misfits - Who Is She Anyway (HQ- DAT) (320  kbps).mp3 → Who Is She Anyway.mp3\n",
      "Renamed: The Misfits - Winning Is Everything (Mastertape- HQ) (320  kbps).mp3 → Winning Is Everything.mp3\n",
      "Renamed: The Misfits - You Can't Catch Me (HQ -Alternative 'No Brakes' Version) (320  kbps).mp3 → You Can't Catch Me.mp3\n",
      "Skipped (already exists): You Can't Catch Me.mp3\n",
      "Renamed: The Misfits - You Gotta Be Fast [DAT] (31-187) (320  kbps).mp3 → You Gotta Be Fast [DAT].mp3\n",
      "Renamed: The Misfits - You Oughta See The View From Here (Stereo) (320  kbps).mp3 → You Oughta See The View From Here.mp3\n"
     ]
    }
   ],
   "source": [
    "files = [f for f in os.listdir(folder_path) if f.lower().endswith('.mp3')]\n",
    "\n",
    "for file in files:\n",
    "    match = re.search(r'^[^-]+-\\s*(.*?)\\s*\\(', file)\n",
    "    if match:\n",
    "        title = match.group(1).strip()\n",
    "        new_filename = f\"{title}.mp3\"\n",
    "        old_path = os.path.join(folder_path, file)\n",
    "        new_path = os.path.join(folder_path, new_filename)\n",
    "\n",
    "        if not os.path.exists(new_path):\n",
    "            os.rename(old_path, new_path)\n",
    "            print(f\"Renamed: {file} → {new_filename}\")\n",
    "        else:\n",
    "            print(f\"Skipped (already exists): {new_filename}\")\n"
   ]
  },
  {
   "cell_type": "code",
   "execution_count": null,
   "id": "15d7c01d",
   "metadata": {},
   "outputs": [],
   "source": []
  }
 ],
 "metadata": {
  "kernelspec": {
   "display_name": "env",
   "language": "python",
   "name": "python3"
  },
  "language_info": {
   "codemirror_mode": {
    "name": "ipython",
    "version": 3
   },
   "file_extension": ".py",
   "mimetype": "text/x-python",
   "name": "python",
   "nbconvert_exporter": "python",
   "pygments_lexer": "ipython3",
   "version": "3.12.7"
  }
 },
 "nbformat": 4,
 "nbformat_minor": 5
}
